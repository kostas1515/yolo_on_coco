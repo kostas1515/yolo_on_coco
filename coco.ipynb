{
 "cells": [
  {
   "cell_type": "code",
   "execution_count": 1,
   "metadata": {},
   "outputs": [
    {
     "ename": "IndentationError",
     "evalue": "unexpected indent (helper.py, line 312)",
     "output_type": "error",
     "traceback": [
      "Traceback \u001b[0;36m(most recent call last)\u001b[0m:\n",
      "  File \u001b[1;32m\"/users/konsa15/.conda/envs/faster_rcnn/lib/python3.8/site-packages/IPython/core/interactiveshell.py\"\u001b[0m, line \u001b[1;32m3331\u001b[0m, in \u001b[1;35mrun_code\u001b[0m\n    exec(code_obj, self.user_global_ns, self.user_ns)\n",
      "\u001b[0;36m  File \u001b[0;32m\"<ipython-input-1-db4f76de24f7>\"\u001b[0;36m, line \u001b[0;32m7\u001b[0;36m, in \u001b[0;35m<module>\u001b[0;36m\u001b[0m\n\u001b[0;31m    import helper as helper\u001b[0m\n",
      "\u001b[0;36m  File \u001b[0;32m\"/mnt/data1/users/konsa15/workspace/notebooks/coco/yolo/helper.py\"\u001b[0;36m, line \u001b[0;32m312\u001b[0m\n\u001b[0;31m    M[0, 2]=M[0, 2]/w\u001b[0m\n\u001b[0m    ^\u001b[0m\n\u001b[0;31mIndentationError\u001b[0m\u001b[0;31m:\u001b[0m unexpected indent\n"
     ]
    }
   ],
   "source": [
    "import cv2\n",
    "import skimage.io as io\n",
    "import numpy as np\n",
    "from zipfile import ZipFile\n",
    "import pandas as pd\n",
    "import torch\n",
    "import helper as helper\n"
   ]
  },
  {
   "cell_type": "code",
   "execution_count": null,
   "metadata": {},
   "outputs": [],
   "source": [
    "label_path='../labels/coco/labels/val2017/000000003156.txt'\n",
    "with open(label_path) as box:\n",
    "    box=box.read()\n",
    "    box=pd.DataFrame([x.split() for x in box.rstrip('\\n').split('\\n')],columns=['class','xc','yc','w','h'])\n",
    "\n",
    "b= box.values.astype(np.float32)\n",
    "b=torch.tensor(b)\n",
    "labels = b.T[0].reshape(b.shape[0], 1)\n",
    "one_hot_target = (labels == torch.arange(80).reshape(1, 80)).float()\n",
    "conf=torch.ones([b.shape[0],1])\n",
    "boxes=torch.cat((b.T[1:],conf.T,one_hot_target.T)).T\n",
    "\n",
    "img_path='../images/val2017/000000003156.jpg'\n",
    "img=cv2.imread(img_path)[:,:,::-1] \n",
    "\n",
    "sample={'images': img,\n",
    "        'boxes': boxes}\n",
    "\n",
    "print(sample['boxes'])\n"
   ]
  },
  {
   "cell_type": "code",
   "execution_count": 3,
   "metadata": {},
   "outputs": [],
   "source": [
    "box=open(\"../detections/000000002157.txt\")\n",
    "box=box.read()\n",
    "box=pd.DataFrame([x.split() for x in box.rstrip('\\n').split('\\n')],columns=['class','conf','xc','yc','w','h'])\n",
    "b= box.values.astype(np.float32)\n",
    "b=torch.tensor(b)\n",
    "labels = b.T[0].reshape(b.shape[0], 1)\n",
    "objectness = b.T[1].reshape(b.shape[0], 1)\n",
    "one_hot_target = (labels == torch.arange(80).reshape(1, 80)).float()\n",
    "# conf=torch.ones([b.shape[0],1])\n",
    "boxes=torch.cat((b.T[2:],objectness.T,one_hot_target.T)).T"
   ]
  },
  {
   "cell_type": "code",
   "execution_count": 4,
   "metadata": {},
   "outputs": [
    {
     "name": "stdout",
     "output_type": "stream",
     "text": [
      "1.3954422649853848\n"
     ]
    }
   ],
   "source": [
    "diff=1\n",
    "import random\n",
    "print(random.uniform(1,2))\n",
    "def rotate(sample):\n",
    "    \n",
    "    img=sample['images']\n",
    "    bboxes=sample['boxes']\n",
    "#Chose a random digit to scale by \n",
    "    angle = 30\n",
    "\n",
    "    w,h = img.shape[1], img.shape[0]\n",
    "    cx, cy = w//2, h//2\n",
    "    img = helper.rotate_im(img, angle)\n",
    "    corners = helper.get_corners(bboxes)\n",
    "    corners = torch.cat([corners, bboxes[:,4:]],dim=1)\n",
    "\n",
    "\n",
    "    corners[:,:8] = helper.rotate_box(corners[:,:8], angle, cx, cy, h, w)\n",
    "    \n",
    "    print(corners[:,:8])\n",
    "    new_bbox = helper.get_enclosing_box(corners)\n",
    "    print(new_bbox)\n",
    "\n",
    "\n",
    "    scale_factor_x = img.shape[1] / w\n",
    "\n",
    "    scale_factor_y = img.shape[0] / h\n",
    "\n",
    "    img = cv2.resize(img, (w,h))\n",
    "\n",
    "    new_bbox[:,0:4] = new_bbox[:,0:4] / torch.tensor([scale_factor_x, scale_factor_y,scale_factor_x, scale_factor_y])\n",
    "    \n",
    "\n",
    "    bboxes  = new_bbox\n",
    "\n",
    "    bboxes = helper.clip_box(bboxes, 0.25)\n",
    "\n",
    "    return img, bboxes"
   ]
  },
  {
   "cell_type": "code",
   "execution_count": 5,
   "metadata": {},
   "outputs": [
    {
     "ename": "NameError",
     "evalue": "name 'sample' is not defined",
     "output_type": "error",
     "traceback": [
      "\u001b[0;31m---------------------------------------------------------------------------\u001b[0m",
      "\u001b[0;31mNameError\u001b[0m                                 Traceback (most recent call last)",
      "\u001b[0;32m<ipython-input-5-999d202b8829>\u001b[0m in \u001b[0;36m<module>\u001b[0;34m\u001b[0m\n\u001b[0;32m----> 1\u001b[0;31m \u001b[0mimg\u001b[0m\u001b[0;34m,\u001b[0m \u001b[0mbboxes\u001b[0m \u001b[0;34m=\u001b[0m \u001b[0mrotate\u001b[0m\u001b[0;34m(\u001b[0m\u001b[0msample\u001b[0m\u001b[0;34m)\u001b[0m\u001b[0;34m\u001b[0m\u001b[0;34m\u001b[0m\u001b[0m\n\u001b[0m\u001b[1;32m      2\u001b[0m \u001b[0;34m\u001b[0m\u001b[0m\n\u001b[1;32m      3\u001b[0m \u001b[0mplt\u001b[0m\u001b[0;34m.\u001b[0m\u001b[0mimshow\u001b[0m\u001b[0;34m(\u001b[0m\u001b[0mdraw_rect\u001b[0m\u001b[0;34m(\u001b[0m\u001b[0mimg\u001b[0m\u001b[0;34m,\u001b[0m \u001b[0mbboxes\u001b[0m\u001b[0;34m)\u001b[0m\u001b[0;34m)\u001b[0m\u001b[0;34m\u001b[0m\u001b[0;34m\u001b[0m\u001b[0m\n\u001b[1;32m      4\u001b[0m \u001b[0;34m\u001b[0m\u001b[0m\n",
      "\u001b[0;31mNameError\u001b[0m: name 'sample' is not defined"
     ]
    }
   ],
   "source": [
    "img, bboxes = rotate(sample)\n",
    "\n",
    "plt.imshow(draw_rect(img, bboxes))\n",
    "\n"
   ]
  },
  {
   "cell_type": "code",
   "execution_count": 2,
   "metadata": {},
   "outputs": [],
   "source": [
    "import cv2 \n",
    "import pickle as pkl\n",
    "import numpy as np \n",
    "import matplotlib.pyplot as plt\n",
    "\n",
    "def draw_rect(im, cords, color = None):\n",
    "    \"\"\"Draw the rectangle on the image\n",
    "    \n",
    "    Parameters\n",
    "    ----------\n",
    "    \n",
    "    im : numpy.ndarray\n",
    "        numpy image \n",
    "    \n",
    "    cords: numpy.ndarray\n",
    "        Numpy array containing bounding boxes of shape `N X 4` where N is the \n",
    "        number of bounding boxes and the bounding boxes are represented in the\n",
    "        format `x1 y1 x2 y2`\n",
    "        \n",
    "    Returns\n",
    "    -------\n",
    "    \n",
    "    numpy.ndarray\n",
    "        numpy image with bounding boxes drawn on it\n",
    "        \n",
    "    \"\"\"\n",
    "    \n",
    "    im = im.copy()\n",
    "    h=im.shape[0]\n",
    "    w=im.shape[1]\n",
    "    cords[:,0]=cords[:,0]*w\n",
    "    cords[:,1]=cords[:,1]*h\n",
    "    cords[:,2]=cords[:,2]*w\n",
    "    cords[:,3]=cords[:,3]*h\n",
    "    if not color:\n",
    "        color = [255,255,255]\n",
    "    for cord in cords:\n",
    "        pt1, pt2 = (cord[0]-cord[2]/2, cord[1]-cord[3]/2) , (cord[0]+cord[2]/2, cord[1]+cord[3]/2)\n",
    "               \n",
    "        pt1 = int(pt1[0]), int(pt1[1])\n",
    "        pt2 = int(pt2[0]), int(pt2[1])\n",
    "    \n",
    "        im = cv2.rectangle(im.copy(), pt1, pt2, color, int(max(im.shape[:2])/200))\n",
    "    return im"
   ]
  },
  {
   "cell_type": "code",
   "execution_count": 17,
   "metadata": {},
   "outputs": [
    {
     "data": {
      "text/plain": [
       "<matplotlib.image.AxesImage at 0x7fe90c251d90>"
      ]
     },
     "execution_count": 17,
     "metadata": {},
     "output_type": "execute_result"
    },
    {
     "data": {
      "image/png": "[encoded data removed]",
      "text/plain": [
       "<Figure size 432x288 with 1 Axes>"
      ]
     },
     "metadata": {
      "needs_background": "light"
     },
     "output_type": "display_data"
    }
   ],
   "source": [
    "plt.imshow(draw_rect(sample['images'], sample['boxes']))"
   ]
  },
  {
   "cell_type": "code",
   "execution_count": 11,
   "metadata": {},
   "outputs": [
    {
     "name": "stdout",
     "output_type": "stream",
     "text": [
      "torch.Size([16, 8])\n",
      "torch.Size([64, 2])\n",
      "torch.Size([2, 3])\n"
     ]
    },
    {
     "ename": "RuntimeError",
     "evalue": "The size of tensor a (3) must match the size of tensor b (64) at non-singleton dimension 1",
     "output_type": "error",
     "traceback": [
      "\u001b[0;31m---------------------------------------------------------------------------\u001b[0m",
      "\u001b[0;31mRuntimeError\u001b[0m                              Traceback (most recent call last)",
      "\u001b[0;32m<ipython-input-11-6cf436cd6e24>\u001b[0m in \u001b[0;36m<module>\u001b[0;34m\u001b[0m\n\u001b[0;32m----> 1\u001b[0;31m \u001b[0mimg\u001b[0m\u001b[0;34m,\u001b[0m \u001b[0mbboxes\u001b[0m \u001b[0;34m=\u001b[0m \u001b[0mrotate\u001b[0m\u001b[0;34m(\u001b[0m\u001b[0msample\u001b[0m\u001b[0;34m)\u001b[0m\u001b[0;34m\u001b[0m\u001b[0;34m\u001b[0m\u001b[0m\n\u001b[0m\u001b[1;32m      2\u001b[0m \u001b[0;34m\u001b[0m\u001b[0m\n\u001b[1;32m      3\u001b[0m \u001b[0mplt\u001b[0m\u001b[0;34m.\u001b[0m\u001b[0mimshow\u001b[0m\u001b[0;34m(\u001b[0m\u001b[0mdraw_rect\u001b[0m\u001b[0;34m(\u001b[0m\u001b[0mimg\u001b[0m\u001b[0;34m,\u001b[0m \u001b[0mbboxes\u001b[0m\u001b[0;34m)\u001b[0m\u001b[0;34m)\u001b[0m\u001b[0;34m\u001b[0m\u001b[0;34m\u001b[0m\u001b[0m\n",
      "\u001b[0;32m<ipython-input-9-93094b02ed53>\u001b[0m in \u001b[0;36mrotate\u001b[0;34m(sample)\u001b[0m\n\u001b[1;32m     19\u001b[0m \u001b[0;34m\u001b[0m\u001b[0m\n\u001b[1;32m     20\u001b[0m \u001b[0;34m\u001b[0m\u001b[0m\n\u001b[0;32m---> 21\u001b[0;31m     \u001b[0mcorners\u001b[0m\u001b[0;34m[\u001b[0m\u001b[0;34m:\u001b[0m\u001b[0;34m,\u001b[0m\u001b[0;34m:\u001b[0m\u001b[0;36m8\u001b[0m\u001b[0;34m]\u001b[0m \u001b[0;34m=\u001b[0m \u001b[0mhelper\u001b[0m\u001b[0;34m.\u001b[0m\u001b[0mrotate_box\u001b[0m\u001b[0;34m(\u001b[0m\u001b[0mcorners\u001b[0m\u001b[0;34m[\u001b[0m\u001b[0;34m:\u001b[0m\u001b[0;34m,\u001b[0m\u001b[0;34m:\u001b[0m\u001b[0;36m8\u001b[0m\u001b[0;34m]\u001b[0m\u001b[0;34m,\u001b[0m \u001b[0mangle\u001b[0m\u001b[0;34m,\u001b[0m \u001b[0mcx\u001b[0m\u001b[0;34m,\u001b[0m \u001b[0mcy\u001b[0m\u001b[0;34m,\u001b[0m \u001b[0mh\u001b[0m\u001b[0;34m,\u001b[0m \u001b[0mw\u001b[0m\u001b[0;34m)\u001b[0m\u001b[0;34m\u001b[0m\u001b[0;34m\u001b[0m\u001b[0m\n\u001b[0m\u001b[1;32m     22\u001b[0m \u001b[0;34m\u001b[0m\u001b[0m\n\u001b[1;32m     23\u001b[0m     \u001b[0mnew_bbox\u001b[0m \u001b[0;34m=\u001b[0m \u001b[0mhelper\u001b[0m\u001b[0;34m.\u001b[0m\u001b[0mget_enclosing_box\u001b[0m\u001b[0;34m(\u001b[0m\u001b[0mcorners\u001b[0m\u001b[0;34m)\u001b[0m\u001b[0;34m\u001b[0m\u001b[0;34m\u001b[0m\u001b[0m\n",
      "\u001b[0;32m/mnt/data1/users/konsa15/workspace/notebooks/coco/yolo/helper.py\u001b[0m in \u001b[0;36mrotate_box\u001b[0;34m(corners, angle, cx, cy, h, w)\u001b[0m\n\u001b[1;32m    312\u001b[0m     \u001b[0mM\u001b[0m\u001b[0;34m=\u001b[0m\u001b[0mtorch\u001b[0m\u001b[0;34m.\u001b[0m\u001b[0mtensor\u001b[0m\u001b[0;34m(\u001b[0m\u001b[0mM\u001b[0m\u001b[0;34m,\u001b[0m\u001b[0mdtype\u001b[0m\u001b[0;34m=\u001b[0m\u001b[0mtorch\u001b[0m\u001b[0;34m.\u001b[0m\u001b[0mfloat32\u001b[0m\u001b[0;34m)\u001b[0m\u001b[0;34m\u001b[0m\u001b[0;34m\u001b[0m\u001b[0m\n\u001b[1;32m    313\u001b[0m     \u001b[0mprint\u001b[0m\u001b[0;34m(\u001b[0m\u001b[0mM\u001b[0m\u001b[0;34m.\u001b[0m\u001b[0mshape\u001b[0m\u001b[0;34m)\u001b[0m\u001b[0;34m\u001b[0m\u001b[0;34m\u001b[0m\u001b[0m\n\u001b[0;32m--> 314\u001b[0;31m     \u001b[0mcalculated\u001b[0m \u001b[0;34m=\u001b[0m \u001b[0;34m(\u001b[0m\u001b[0mM\u001b[0m\u001b[0;34m*\u001b[0m\u001b[0mcorners\u001b[0m\u001b[0;34m.\u001b[0m\u001b[0mT\u001b[0m\u001b[0;34m)\u001b[0m\u001b[0;34m.\u001b[0m\u001b[0mT\u001b[0m\u001b[0;34m\u001b[0m\u001b[0;34m\u001b[0m\u001b[0m\n\u001b[0m\u001b[1;32m    315\u001b[0m     \u001b[0mprint\u001b[0m\u001b[0;34m(\u001b[0m\u001b[0mcalculated\u001b[0m\u001b[0;34m.\u001b[0m\u001b[0mshape\u001b[0m\u001b[0;34m)\u001b[0m\u001b[0;34m\u001b[0m\u001b[0;34m\u001b[0m\u001b[0m\n\u001b[1;32m    316\u001b[0m     \u001b[0mcalculated\u001b[0m \u001b[0;34m=\u001b[0m \u001b[0mcalculated\u001b[0m\u001b[0;34m.\u001b[0m\u001b[0mreshape\u001b[0m\u001b[0;34m(\u001b[0m\u001b[0;34m-\u001b[0m\u001b[0;36m1\u001b[0m\u001b[0;34m,\u001b[0m\u001b[0;36m8\u001b[0m\u001b[0;34m)\u001b[0m\u001b[0;34m\u001b[0m\u001b[0;34m\u001b[0m\u001b[0m\n",
      "\u001b[0;31mRuntimeError\u001b[0m: The size of tensor a (3) must match the size of tensor b (64) at non-singleton dimension 1"
     ]
    }
   ],
   "source": [
    "img, bboxes = rotate(sample)\n",
    "\n",
    "plt.imshow(draw_rect(img, bboxes))\n"
   ]
  },
  {
   "cell_type": "code",
   "execution_count": 12,
   "metadata": {},
   "outputs": [
    {
     "ename": "NameError",
     "evalue": "name 'bboxes' is not defined",
     "output_type": "error",
     "traceback": [
      "\u001b[0;31m---------------------------------------------------------------------------\u001b[0m",
      "\u001b[0;31mNameError\u001b[0m                                 Traceback (most recent call last)",
      "\u001b[0;32m<ipython-input-12-efe76e12648f>\u001b[0m in \u001b[0;36m<module>\u001b[0;34m\u001b[0m\n\u001b[0;32m----> 1\u001b[0;31m \u001b[0mprint\u001b[0m\u001b[0;34m(\u001b[0m\u001b[0mhelper\u001b[0m\u001b[0;34m.\u001b[0m\u001b[0mget_corners\u001b[0m\u001b[0;34m(\u001b[0m\u001b[0mbboxes\u001b[0m\u001b[0;34m)\u001b[0m\u001b[0;34m)\u001b[0m\u001b[0;34m\u001b[0m\u001b[0;34m\u001b[0m\u001b[0m\n\u001b[0m",
      "\u001b[0;31mNameError\u001b[0m: name 'bboxes' is not defined"
     ]
    }
   ],
   "source": [
    "print(helper.get_corners(bboxes))"
   ]
  },
  {
   "cell_type": "code",
   "execution_count": null,
   "metadata": {},
   "outputs": [],
   "source": [
    "import torch\n",
    "\n",
    "a=torch.tensor([[[1,2,2,4,0,0,0,1],[2,3,5,3,0,0,1,0]]])\n",
    "print(a.shape)\n",
    "b=((a[:,:,4:]==1).nonzero())\n",
    "b=b[:,-1].unsqueeze(0).unsqueeze(-1)\n",
    "print(b.shape)\n",
    "new=a[:,:,:4]\n",
    "print(new.shape)\n",
    "new=torch.cat((new.T,b.T)).T\n",
    "print(new)\n",
    "sorted_pred=torch.sort(new[0,:,4],descending=False)\n",
    "print(sorted_pred)"
   ]
  },
  {
   "cell_type": "code",
   "execution_count": null,
   "metadata": {},
   "outputs": [],
   "source": [
    "b = box.values.astype(np.float32)\n",
    "b=torch.tensor(b)\n",
    "labels = b.T[0].reshape(b.shape[0], 1)\n",
    "one_hot_target = (labels == torch.arange(80).reshape(1, 80)).float()\n",
    "conf=torch.ones([b.shape[0],1])\n",
    "boxes=torch.cat((b.T[1:],conf.T,one_hot_target.T)).T\n",
    "\n",
    "\n"
   ]
  },
  {
   "cell_type": "code",
   "execution_count": null,
   "metadata": {},
   "outputs": [],
   "source": [
    "file_name='images/train2017.zip'\n",
    "with ZipFile(file_name, 'r') as zip:\n",
    "    image=zip.read('train2017/000000408542.jpg')\n",
    "    img = cv2.imdecode(np.frombuffer(image, np.uint8),1)\n",
    "    im_rgb = cv2.cvtColor(img, cv2.COLOR_BGR2RGB)\n",
    "    io.imshow(im_rgb)\n",
    "    io.imsave('fig.png',im_rgb)"
   ]
  },
  {
   "cell_type": "code",
   "execution_count": null,
   "metadata": {},
   "outputs": [],
   "source": [
    "df=pd.read_csv('pointers/train2017.txt',names=['filename'])"
   ]
  },
  {
   "cell_type": "code",
   "execution_count": null,
   "metadata": {},
   "outputs": [],
   "source": [
    "df['box']=df['filename'].apply(lambda x: 'coco/labels/'+x.split('.')[0]+'.txt')"
   ]
  },
  {
   "cell_type": "code",
   "execution_count": null,
   "metadata": {},
   "outputs": [],
   "source": [
    "df['box']"
   ]
  },
  {
   "cell_type": "code",
   "execution_count": 1,
   "metadata": {},
   "outputs": [
    {
     "name": "stdout",
     "output_type": "stream",
     "text": [
      "cuda:0\n",
      "Using  2 GPUs!\n",
      "Length of dataset is 118287\n",
      "\n",
      "\n",
      " epoch 0\n"
     ]
    },
    {
     "name": "stderr",
     "output_type": "stream",
     "text": [
      "/users/konsa15/.conda/envs/faster_rcnn/lib/python3.8/site-packages/torch/nn/functional.py:2503: UserWarning: Default upsampling behavior when mode=bilinear is changed to align_corners=False since 0.4.0. Please specify align_corners=True if the old behavior is desired. See the documentation of nn.Upsample for details.\n",
      "  warnings.warn(\"Default upsampling behavior when mode={} is changed \"\n"
     ]
    },
    {
     "name": "stdout",
     "output_type": "stream",
     "text": [
      "Pgr:0.2874364892169046% L:2.5664230588026626 IoU:0.7830198407173157 pob:0.695453941822052 nob:0.0010570075828582048 PCls:0.9564895629882812 ncls:0.00055076577700674537"
     ]
    },
    {
     "ename": "RuntimeError",
     "evalue": "CUDA out of memory. Tried to allocate 778.00 MiB (GPU 0; 7.93 GiB total capacity; 6.85 GiB already allocated; 430.38 MiB free; 7.01 GiB reserved in total by PyTorch)",
     "output_type": "error",
     "traceback": [
      "\u001b[0;31m---------------------------------------------------------------------------\u001b[0m",
      "\u001b[0;31mRuntimeError\u001b[0m                              Traceback (most recent call last)",
      "\u001b[0;32m<ipython-input-1-90f83e37a680>\u001b[0m in \u001b[0;36m<module>\u001b[0;34m\u001b[0m\n\u001b[1;32m    173\u001b[0m             \u001b[0;32mwith\u001b[0m \u001b[0mtorch\u001b[0m\u001b[0;34m.\u001b[0m\u001b[0mautograd\u001b[0m\u001b[0;34m.\u001b[0m\u001b[0mset_detect_anomaly\u001b[0m\u001b[0;34m(\u001b[0m\u001b[0;32mTrue\u001b[0m\u001b[0;34m)\u001b[0m\u001b[0;34m:\u001b[0m\u001b[0;34m\u001b[0m\u001b[0;34m\u001b[0m\u001b[0m\n\u001b[1;32m    174\u001b[0m                 \u001b[0mloss\u001b[0m\u001b[0;34m=\u001b[0m\u001b[0mutil\u001b[0m\u001b[0;34m.\u001b[0m\u001b[0myolo_loss\u001b[0m\u001b[0;34m(\u001b[0m\u001b[0mraw_pred\u001b[0m\u001b[0;34m,\u001b[0m\u001b[0mtargets\u001b[0m\u001b[0;34m,\u001b[0m\u001b[0mnoobj_box\u001b[0m\u001b[0;34m,\u001b[0m\u001b[0mmask\u001b[0m\u001b[0;34m,\u001b[0m\u001b[0mhyperparameters\u001b[0m\u001b[0;34m)\u001b[0m\u001b[0;34m\u001b[0m\u001b[0;34m\u001b[0m\u001b[0m\n\u001b[0;32m--> 175\u001b[0;31m                 \u001b[0mloss\u001b[0m\u001b[0;34m.\u001b[0m\u001b[0mbackward\u001b[0m\u001b[0;34m(\u001b[0m\u001b[0;34m)\u001b[0m\u001b[0;34m\u001b[0m\u001b[0;34m\u001b[0m\u001b[0m\n\u001b[0m\u001b[1;32m    176\u001b[0m                 \u001b[0moptimizer\u001b[0m\u001b[0;34m.\u001b[0m\u001b[0mstep\u001b[0m\u001b[0;34m(\u001b[0m\u001b[0;34m)\u001b[0m\u001b[0;34m\u001b[0m\u001b[0;34m\u001b[0m\u001b[0m\n\u001b[1;32m    177\u001b[0m \u001b[0;34m\u001b[0m\u001b[0m\n",
      "\u001b[0;32m~/.conda/envs/faster_rcnn/lib/python3.8/site-packages/torch/tensor.py\u001b[0m in \u001b[0;36mbackward\u001b[0;34m(self, gradient, retain_graph, create_graph)\u001b[0m\n\u001b[1;32m    193\u001b[0m                 \u001b[0mproducts\u001b[0m\u001b[0;34m.\u001b[0m \u001b[0mDefaults\u001b[0m \u001b[0mto\u001b[0m\u001b[0;31m \u001b[0m\u001b[0;31m`\u001b[0m\u001b[0;31m`\u001b[0m\u001b[0;32mFalse\u001b[0m\u001b[0;31m`\u001b[0m\u001b[0;31m`\u001b[0m\u001b[0;34m.\u001b[0m\u001b[0;34m\u001b[0m\u001b[0;34m\u001b[0m\u001b[0m\n\u001b[1;32m    194\u001b[0m         \"\"\"\n\u001b[0;32m--> 195\u001b[0;31m         \u001b[0mtorch\u001b[0m\u001b[0;34m.\u001b[0m\u001b[0mautograd\u001b[0m\u001b[0;34m.\u001b[0m\u001b[0mbackward\u001b[0m\u001b[0;34m(\u001b[0m\u001b[0mself\u001b[0m\u001b[0;34m,\u001b[0m \u001b[0mgradient\u001b[0m\u001b[0;34m,\u001b[0m \u001b[0mretain_graph\u001b[0m\u001b[0;34m,\u001b[0m \u001b[0mcreate_graph\u001b[0m\u001b[0;34m)\u001b[0m\u001b[0;34m\u001b[0m\u001b[0;34m\u001b[0m\u001b[0m\n\u001b[0m\u001b[1;32m    196\u001b[0m \u001b[0;34m\u001b[0m\u001b[0m\n\u001b[1;32m    197\u001b[0m     \u001b[0;32mdef\u001b[0m \u001b[0mregister_hook\u001b[0m\u001b[0;34m(\u001b[0m\u001b[0mself\u001b[0m\u001b[0;34m,\u001b[0m \u001b[0mhook\u001b[0m\u001b[0;34m)\u001b[0m\u001b[0;34m:\u001b[0m\u001b[0;34m\u001b[0m\u001b[0;34m\u001b[0m\u001b[0m\n",
      "\u001b[0;32m~/.conda/envs/faster_rcnn/lib/python3.8/site-packages/torch/autograd/__init__.py\u001b[0m in \u001b[0;36mbackward\u001b[0;34m(tensors, grad_tensors, retain_graph, create_graph, grad_variables)\u001b[0m\n\u001b[1;32m     95\u001b[0m         \u001b[0mretain_graph\u001b[0m \u001b[0;34m=\u001b[0m \u001b[0mcreate_graph\u001b[0m\u001b[0;34m\u001b[0m\u001b[0;34m\u001b[0m\u001b[0m\n\u001b[1;32m     96\u001b[0m \u001b[0;34m\u001b[0m\u001b[0m\n\u001b[0;32m---> 97\u001b[0;31m     Variable._execution_engine.run_backward(\n\u001b[0m\u001b[1;32m     98\u001b[0m         \u001b[0mtensors\u001b[0m\u001b[0;34m,\u001b[0m \u001b[0mgrad_tensors\u001b[0m\u001b[0;34m,\u001b[0m \u001b[0mretain_graph\u001b[0m\u001b[0;34m,\u001b[0m \u001b[0mcreate_graph\u001b[0m\u001b[0;34m,\u001b[0m\u001b[0;34m\u001b[0m\u001b[0;34m\u001b[0m\u001b[0m\n\u001b[1;32m     99\u001b[0m         allow_unreachable=True)  # allow_unreachable flag\n",
      "\u001b[0;31mRuntimeError\u001b[0m: CUDA out of memory. Tried to allocate 778.00 MiB (GPU 0; 7.93 GiB total capacity; 6.85 GiB already allocated; 430.38 MiB free; 7.01 GiB reserved in total by PyTorch)"
     ]
    }
   ],
   "source": [
    "from dataset import *\n",
    "import timeit \n",
    "import cv2\n",
    "import numpy as np\n",
    "from zipfile import ZipFile\n",
    "import pandas as pd\n",
    "import torch\n",
    "import time\n",
    "from darknet import *\n",
    "import darknet as dn\n",
    "import util as util\n",
    "import torch.optim as optim\n",
    "\n",
    "import sys\n",
    "import timeit\n",
    "import torch.autograd\n",
    "import helper as helper\n",
    "from torch.utils.tensorboard import SummaryWriter\n",
    "\n",
    "\n",
    "\n",
    "net = Darknet(\"../cfg/yolov3.cfg\")\n",
    "inp_dim=net.inp_dim\n",
    "pw_ph=net.pw_ph.to(device='cuda')\n",
    "cx_cy=net.cx_cy.to(device='cuda')\n",
    "stride=net.stride.to(device='cuda')\n",
    "\n",
    "\n",
    "# idf_weights=pd.read_csv('../idf.csv')\n",
    "\n",
    "\n",
    "hyperparameters={'lr':0.0001,\n",
    "                 'batch_size':20,\n",
    "                 'weight_decay':0.001,\n",
    "                 'momentum':0.9,\n",
    "                 'optimizer':'sgd',\n",
    "                 'alpha':0.5,\n",
    "                 'gamma':0,\n",
    "                 'lcoord':5,\n",
    "                 'lno_obj':1,\n",
    "                 'iou_type':(0,0,0),#(GIoU,DIoU,CIoU) default is 0,0,0 for iou\n",
    "                 'iou_ignore_thresh':0.5,\n",
    "                 'tfidf':True,\n",
    "                 'idf_weights':True,\n",
    "                 'workers':2,\n",
    "                 'path':'pretrained20_no_sm',\n",
    "                 'reduction':'sum'}\n",
    "\n",
    "\n",
    "if (hyperparameters['idf_weights']==True):\n",
    "    hyperparameters['idf_weights']=pd.read_csv('../idf.csv')\n",
    "else:\n",
    "    hyperparameters['idf_weights']=False\n",
    "        \n",
    "\n",
    "'''\n",
    "when loading weights from dataparallel model then, you first need to instatiate the dataparallel model \n",
    "if you start fresh then first model.load_weights and then make it parallel\n",
    "'''\n",
    "try:\n",
    "    PATH = '../'+hyperparameters['path']+'.pth'\n",
    "    weights = torch.load(PATH)\n",
    "    device = torch.device(\"cuda:0\" if torch.cuda.is_available() else \"cpu\")\n",
    "\n",
    "    # Assuming that we https://pytorch.org/docs/stable/data.html#torch.utils.data.Datasetare on a CUDA machine, this should print a CUDA device:\n",
    "    print(device)\n",
    "    net.to(device)\n",
    "\n",
    "    if (torch.cuda.device_count() > 1):\n",
    "        print(\"Using \", torch.cuda.device_count(), \"GPUs!\")\n",
    "        model = nn.DataParallel(net)\n",
    "        model.to(device)\n",
    "        model.load_state_dict(weights)\n",
    "    else:\n",
    "        model=net\n",
    "        model.to(device)\n",
    "        model.load_state_dict(weights)\n",
    "        \n",
    "except FileNotFoundError: \n",
    "    net.load_weights(\"../yolov3.weights\")\n",
    "    device = torch.device(\"cuda:0\" if torch.cuda.is_available() else \"cpu\")\n",
    "\n",
    "    # Assuming that we are on a CUDA machine, this should print a CUDA device:\n",
    "\n",
    "    print(device)\n",
    "    net.to(device)\n",
    "    if (torch.cuda.device_count() > 1):\n",
    "        print(\"Using \", torch.cuda.device_count(), \"GPUs!\")\n",
    "        model = nn.DataParallel(net)\n",
    "        model.to(device)\n",
    "    else:\n",
    "        model=net\n",
    "        \n",
    "\n",
    "transformed_dataset=Coco(partition='train',\n",
    "                                           transform=transforms.Compose([\n",
    "                                            ResizeToTensor(inp_dim),\n",
    "                                           ]))\n",
    "\n",
    "\n",
    "writer = SummaryWriter('../results/'+hyperparameters['path'])\n",
    "dataset_len=(len(transformed_dataset))\n",
    "print('Length of dataset is '+ str(dataset_len)+'\\n')\n",
    "batch_size=hyperparameters['batch_size']\n",
    "dataloader = DataLoader(transformed_dataset, batch_size=batch_size,\n",
    "                        shuffle=True,collate_fn=helper.my_collate, num_workers=hyperparameters['workers'])\n",
    "\n",
    "\n",
    "if hyperparameters['optimizer']=='sgd':\n",
    "    optimizer = optim.SGD(model.parameters(), lr=hyperparameters['lr'], weight_decay=hyperparameters['weight_decay'], momentum=hyperparameters['momentum'])\n",
    "elif hyperparameters['otimizer']=='adam':\n",
    "    optimizer = optim.Adam(model.parameters(), lr=hyperparameters['lr'], weight_decay=hyperparameters['weight_decay'])\n",
    "\n",
    "lambda1 = lambda epoch: 0.95**epoch\n",
    "scheduler=optim.lr_scheduler.LambdaLR(optimizer, lambda1, last_epoch=-1)\n",
    "\n",
    "epochs=50\n",
    "total_loss=0\n",
    "write=0\n",
    "misses=0\n",
    "avg_iou=0\n",
    "for e in range(epochs):\n",
    "    prg_counter=0\n",
    "    train_counter=0\n",
    "    total_loss=0\n",
    "    avg_iou=0\n",
    "    avg_infs=0\n",
    "    avg_conf=0\n",
    "    avg_no_conf=0\n",
    "    avg_pos=0\n",
    "    avg_neg=0\n",
    "    print(\"\\n epoch \"+str(e))\n",
    "    misses=0\n",
    "    for images,targets,img_names in dataloader:\n",
    "        optimizer.zero_grad()\n",
    "        targets,anchors,offset,strd,mask=helper.collapse_boxes(targets,pw_ph,cx_cy,stride)\n",
    "        images=images.cuda()\n",
    "        raw_pred = model(images, torch.cuda.is_available())\n",
    "        raw_pred=helper.expand_predictions(raw_pred,mask)\n",
    "        true_pred=util.transform(raw_pred.clone(),anchors,offset,strd)\n",
    "        targets=targets.unsqueeze(-3)\n",
    "        targets=targets.cuda()\n",
    "        iou_mask,noobj_mask=util.get_responsible_masks(true_pred,targets,offset,strd,mask,inp_dim,hyperparameters)\n",
    "        \n",
    "        iou1=torch.diag(util.bbox_iou(util.get_abs_coord(true_pred[iou_mask.T,:].unsqueeze(-3)),util.transpose_target(get_abs_coord(targets)*inp_dim),hyperparameters['iou_type']))\n",
    "        iou=iou1.mean().item()\n",
    "        noobj_box=raw_pred[:,:,4:5].clone()\n",
    "        noobj_box=helper.uncollapse(noobj_box,mask)\n",
    "        noobj_mask=helper.uncollapse(noobj_mask.T.unsqueeze(-1),mask)\n",
    "        \n",
    "        \n",
    "        conf=raw_pred[iou_mask.T,:][:,4:5].mean().item()\n",
    "        class_mask=targets[:,:,5:].type(torch.BoolTensor).squeeze(0)\n",
    "        if(iou_mask.sum()==class_mask.shape[0]):\n",
    "            pos_class=raw_pred[iou_mask.T,:][:,5:][class_mask].mean().item()\n",
    "            neg_class=raw_pred[iou_mask.T,:][:,5:][~class_mask].mean().item()\n",
    "        else:\n",
    "            pos_class=0\n",
    "            neg_class=0\n",
    "            \n",
    "        noobj_box=noobj_box[noobj_mask]\n",
    "        no_obj_conf=noobj_box.mean().item()\n",
    "        \n",
    "        raw_pred=raw_pred[iou_mask.T,:]\n",
    "        anchors=anchors[iou_mask.T,:]\n",
    "        offset=offset[iou_mask.T,:]\n",
    "        strd=strd[iou_mask.T,:]\n",
    "        \n",
    "        if(strd.shape[0]==sum(mask)):#this means that iou_mask failed and was all true, because max of zeros is true for all lenght of mask strd\n",
    "            targets[:,:,0:4]=targets[:,:,0:4]*inp_dim\n",
    "            targets=targets.squeeze(0)\n",
    "            targets[:,0:4]=util.transform_groundtruth(targets,anchors,offset,strd)\n",
    "            with torch.autograd.set_detect_anomaly(True):\n",
    "                loss=util.yolo_loss(raw_pred,targets,noobj_box,mask,hyperparameters)\n",
    "                loss.backward()\n",
    "                optimizer.step()\n",
    "            \n",
    "            avg_conf=avg_conf+conf\n",
    "            avg_no_conf=avg_no_conf+no_obj_conf\n",
    "            avg_pos=avg_pos+pos_class\n",
    "            avg_neg=avg_neg+neg_class\n",
    "            total_loss=total_loss+loss.item()\n",
    "            avg_iou=avg_iou+iou\n",
    "            sys.stdout.write('\\rPgr:'+str(prg_counter/dataset_len*100*batch_size)+'%' ' L:'+ str(loss.item()))\n",
    "            sys.stdout.write(' IoU:' +str(iou)+' pob:'+str(conf)+ ' nob:'+str(no_obj_conf))\n",
    "            sys.stdout.write(' PCls:' +str(pos_class)+' ncls:'+str(neg_class))\n",
    "            sys.stdout.flush()\n",
    "            prg_counter=prg_counter+1\n",
    "            train_counter=train_counter+1\n",
    "        else:\n",
    "            print('missed')\n",
    "            print(strd.shape[0])\n",
    "            prg_counter=prg_counter+1\n",
    "        iou1=iou1.tolist()\n",
    "        iou_per_class= [0] * 80\n",
    "        averager_per_class=[1] * 80\n",
    "        for i,el in enumerate(iou1):\n",
    "            name=targets[i,5:].max(0)[1].cpu().detach().numpy()\n",
    "            iou_per_class[name]=iou_per_class[name]+el\n",
    "            averager_per_class[name]=averager_per_class[name]+1\n",
    "        for i in range(80):\n",
    "            if (iou_per_class[i]!=0):\n",
    "                if i<40:\n",
    "                    writer.add_scalar('Iou0/'+str(i), iou_per_class[i]/averager_per_class[i], train_counter)\n",
    "                else:\n",
    "                    writer.add_scalar('Iou1/'+str(i), iou_per_class[i]/averager_per_class[i], train_counter)\n",
    "        writer.add_scalar('AvLoss/train', total_loss/train_counter, train_counter)\n",
    "\n",
    "        \n",
    "        writer.add_scalar('AvIoU/train', avg_iou/train_counter, train_counter)\n",
    "\n",
    "        writer.add_scalar('AvPConf/train', avg_conf/train_counter, train_counter)\n",
    "        \n",
    "        writer.add_scalar('AvNConf/train', avg_no_conf/train_counter, train_counter)\n",
    "        \n",
    "        writer.add_scalar('AvClass/train', avg_pos/train_counter, train_counter)\n",
    "        \n",
    "        writer.add_scalar('AvNClass/train', avg_neg/train_counter, train_counter)\n",
    "        \n",
    "        del loss, raw_pred, targets, true_pred, images,iou,noobj_box,conf,iou1\n",
    "        torch.cuda.empty_cache()\n",
    "    if misses>0:\n",
    "        break\n",
    "#     torch.save(model.state_dict(), PATH)\n",
    "#     writer.add_scalar('Loss/train', total_loss/train_counter, e)\n",
    "#     writer.add_scalar('AIoU/train', avg_iou/train_counter, e)\n",
    "#     writer.add_scalar('PConf/train', avg_conf/train_counter, e)\n",
    "#     writer.add_scalar('NConf/train', avg_no_conf/train_counter, e)\n",
    "#     writer.add_scalar('PClass/train', avg_pos/train_counter, e)\n",
    "#     writer.add_scalar('NClass/train', avg_neg/train_counter, e)\n",
    "    print('\\ntotal number of misses is ' + str(misses))\n",
    "    print('\\n total average loss is '+str(total_loss/train_counter))\n",
    "    print('\\n total average iou is '+str(avg_iou/train_counter))"
   ]
  },
  {
   "cell_type": "code",
   "execution_count": 2,
   "metadata": {},
   "outputs": [],
   "source": [
    "torch.save(model.state_dict(), PATH)"
   ]
  },
  {
   "cell_type": "code",
   "execution_count": 6,
   "metadata": {},
   "outputs": [
    {
     "name": "stdout",
     "output_type": "stream",
     "text": [
      "tensor([0.6411, 0.3589])\n"
     ]
    }
   ],
   "source": [
    "import torch\n",
    "a=torch.tensor([0.93,0.35])\n",
    "print(torch.softmax(a,dim=0))"
   ]
  },
  {
   "cell_type": "code",
   "execution_count": 9,
   "metadata": {},
   "outputs": [
    {
     "name": "stdout",
     "output_type": "stream",
     "text": [
      "torch.Size([2, 2])\n"
     ]
    }
   ],
   "source": [
    "test=torch.tensor([[[1,2],[3,4]]])\n",
    "print(test.shape[1:])"
   ]
  },
  {
   "cell_type": "code",
   "execution_count": 23,
   "metadata": {},
   "outputs": [
    {
     "name": "stdout",
     "output_type": "stream",
     "text": [
      "[4, 3, 12, 5, 2, 1, 6, 3, 8, 3, 4, 11, 19, 16, 3, 6]\n",
      "tensor([10.,  4., 15.,  0.,  0.,  0.,  0.,  0.,  0.,  0.,  0.,  0.,  0.,  2.,\n",
      "         0.,  0., 16.,  0.,  0.,  0.,  0.,  0.,  0.,  0.,  0.,  0.,  0.,  0.,\n",
      "         0.,  0.,  0.,  0.,  0.,  0.,  0.,  0.,  3.,  0.,  0.,  0.,  0.,  0.,\n",
      "         0.,  0.,  0.,  8.,  0.,  7.,  0.,  0.,  0.,  0.,  0.,  0.,  0.,  0.,\n",
      "         0.,  0.,  2.,  0.,  0.,  0.,  0.,  0.,  0.,  0.,  0.,  0.,  0.,  0.,\n",
      "         0.,  0.,  0.,  0.,  0.,  0.,  0.,  0.,  0.,  0.])\n"
     ]
    }
   ],
   "source": [
    "print(mask)\n",
    "\n",
    "idf=torch.stack([targets[:i,5:].sum(axis=0) for i in mask],dim=0)\n",
    "idf[idf>1]=1\n",
    "\n",
    "print(idf.sum(axis=0))"
   ]
  },
  {
   "cell_type": "code",
   "execution_count": 68,
   "metadata": {},
   "outputs": [
    {
     "name": "stdout",
     "output_type": "stream",
     "text": [
      "tensor([15, 66,  0,  0,  0,  0,  0, 30, 30,  9,  9,  9,  9, 24,  0,  0,  0, 30,\n",
      "         0,  0,  0,  0, 30, 30,  0, 37, 23, 23,  4,  0,  6,  0,  0, 37, 17,  0,\n",
      "         0, 17,  0, 19, 19, 19,  0, 20, 20, 32,  0,  0,  0,  0, 35, 35, 35,  1,\n",
      "         1,  1,  1,  1, 24, 17,  0, 17, 15, 67, 63, 73, 76, 60, 45, 60, 52, 48,\n",
      "         0,  0,  0, 11,  2,  7], device='cuda:0')\n",
      "tensor([2.2617, 2.8482, 0.0543, 0.0543, 0.0543, 0.0543, 0.0543, 0.2211, 0.2211,\n",
      "        0.1924, 0.1924, 0.1924, 0.1924, 0.2135, 0.0543, 0.0543, 0.0543, 0.2211,\n",
      "        0.0543, 0.0543, 0.0543, 0.0543, 0.2211, 0.2211, 0.5976, 2.4636, 2.3481,\n",
      "        2.3481, 1.7821, 0.5976, 1.9959, 0.5976, 0.5976, 2.4636, 0.9140, 0.2390,\n",
      "        0.2390, 0.9140, 0.2390, 1.5290, 1.5290, 1.5290, 0.3984, 1.5299, 1.5299,\n",
      "        0.6107, 0.1494, 0.1494, 0.1494, 0.1494, 0.6131, 0.6131, 0.6131, 0.4953,\n",
      "        0.4953, 0.4953, 0.4953, 0.4953, 0.7827, 1.5234, 0.3984, 1.5234, 0.6462,\n",
      "        0.8227, 0.7916, 0.8746, 0.9268, 0.7589, 0.7150, 0.8853, 0.8517, 0.8401,\n",
      "        0.1992, 0.1992, 0.1992, 1.4622, 1.0352, 1.3611], device='cuda:0',\n",
      "       dtype=torch.float64)\n",
      "tensor([0.0435, 0.0782, 0.0048, 0.0048, 0.0048, 0.0048, 0.0048, 0.0057, 0.0057,\n",
      "        0.0055, 0.0055, 0.0055, 0.0055, 0.0056, 0.0048, 0.0048, 0.0048, 0.0057,\n",
      "        0.0048, 0.0048, 0.0048, 0.0048, 0.0057, 0.0057, 0.0082, 0.0533, 0.0474,\n",
      "        0.0474, 0.0269, 0.0082, 0.0334, 0.0082, 0.0082, 0.0533, 0.0113, 0.0058,\n",
      "        0.0058, 0.0113, 0.0058, 0.0209, 0.0209, 0.0209, 0.0068, 0.0209, 0.0209,\n",
      "        0.0083, 0.0053, 0.0053, 0.0053, 0.0053, 0.0084, 0.0084, 0.0084, 0.0074,\n",
      "        0.0074, 0.0074, 0.0074, 0.0074, 0.0099, 0.0208, 0.0068, 0.0208, 0.0087,\n",
      "        0.0103, 0.0100, 0.0109, 0.0115, 0.0097, 0.0093, 0.0110, 0.0106, 0.0105,\n",
      "        0.0055, 0.0055, 0.0055, 0.0196, 0.0128, 0.0177], device='cuda:0',\n",
      "       dtype=torch.float64)\n"
     ]
    }
   ],
   "source": [
    "\n",
    "tf=torch.tensor([1/mask[i] for i in range(len(mask)) for j in range(mask[i])]).cuda()\n",
    "\n",
    "classes=targets[:,5:].max(1)[1]\n",
    "print(classes)\n",
    "# print(obj_idf)\n",
    "# print(classes.tolist())\n",
    "idf=np.array(obj_idf['obj_idf'][classes.tolist()])\n",
    "idf=torch.tensor(idf,device='cuda')\n",
    "idf=-torch.log(idf)\n",
    "tfidf=tf*idf\n",
    "print(tfidf)\n",
    "tfidf=torch.softmax(tfidf,dim=0)\n",
    "print(tfidf)"
   ]
  },
  {
   "cell_type": "code",
   "execution_count": null,
   "metadata": {},
   "outputs": [],
   "source": [
    "targets2,anchors,offset,strd,mask=helper.collapse_boxes(targets,pw_ph,cx_cy,stride)\n",
    "transformed_output=true_pred\n",
    "targets=targets\n",
    "offset=offset\n",
    "strd=strd\n",
    "mask=mask\n",
    "inp_dim\n",
    "'''\n",
    "this function takes the transformed_output and\n",
    "the target box in respect to the resized image size\n",
    "and returns a mask which can be applied to select the \n",
    "best raw input,anchors and cx_cy_offset\n",
    "and the noobj_mask for the negatives\n",
    "targets is a list\n",
    "'''\n",
    "#first transpose the centered normalised target coords\n",
    "centered_target=transpose_target(targets)[:,:,0:2]\n",
    "#multiply by inp_dim then devide by stride to get the relative grid size coordinates, floor the result to get the corresponding cell\n",
    "centered_target=torch.floor(centered_target*inp_dim/strd)\n",
    "#create a mask to find where the gt falls into which gridcell in the grid coordinate system\n",
    "fall_into_mask=centered_target==offset\n",
    "fall_into_mask=fall_into_mask[:,:,0]&fall_into_mask[:,:,1]\n",
    "#     fall_into_mask= ~fall_into_mask\n",
    "#create a copy of the transformed output\n",
    "best_bboxes=transformed_output.clone()\n",
    "#apply reverse mask to copy in order to zero all other bbox locations\n",
    "best_bboxes[~fall_into_mask]=0   \n",
    "#transform the copy to xmin,xmax,ymin,ymax\n",
    "best_responsible_coord=get_abs_coord(best_bboxes)\n",
    "targets=transpose_target(get_abs_coord(targets))*inp_dim\n",
    "#calculate best iou and mask\n",
    "responsible_iou=bbox_iou(best_responsible_coord,targets,True)\n",
    "\n",
    "responsible_iou[responsible_iou.ne(responsible_iou)] = 0\n",
    "responsible_mask=responsible_iou.max(dim=0)[0] == responsible_iou\n",
    "\n",
    "print(responsible_mask.shape)\n",
    "\n",
    "abs_coord=get_abs_coord(transformed_output)\n",
    "iou=bbox_iou(abs_coord,targets,True)\n",
    "iou[iou.ne(iou)] = 0\n",
    "ignore_mask=0.5<=iou\n",
    "inverted_mask=iou.max(dim=0)[0] != iou\n",
    "noobj_mask=~same_picture_mask(responsible_mask.clone()|ignore_mask,mask)"
   ]
  },
  {
   "cell_type": "code",
   "execution_count": null,
   "metadata": {},
   "outputs": [],
   "source": [
    "print(responsible_mask)\n",
    "if(responsible_mask.sum()>sum(mask)):\n",
    "    print('jello')\n",
    "    responsible_mask1=correct_iou_mask(responsible_mask,fall_into_mask)\n",
    "print(responsible_mask1.shape)"
   ]
  },
  {
   "cell_type": "code",
   "execution_count": null,
   "metadata": {},
   "outputs": [],
   "source": [
    "a=torch.randint(0, 9, (1,)) == torch.arange(9)\n",
    "a=a.repeat(5)\n",
    "a=a.repeat(2,1)\n",
    "print(a)\n",
    "print(a.T)"
   ]
  },
  {
   "cell_type": "code",
   "execution_count": 15,
   "metadata": {},
   "outputs": [],
   "source": [
    "hyperparameters={'lr':0.01,'batch_size':16,'weight_decay':0.001,'optimizer':'sgd','alpha':0.5,'gamma':2,'iou_ignore_thresh':0.5,'tfidf':True,'reduction':'sum'}"
   ]
  },
  {
   "cell_type": "code",
   "execution_count": null,
   "metadata": {},
   "outputs": [],
   "source": [
    "le_mask=(responsible_mask.sum(axis=0)==responsible_mask.sum(axis=0).max())"
   ]
  },
  {
   "cell_type": "code",
   "execution_count": null,
   "metadata": {},
   "outputs": [],
   "source": [
    "responsible_mask[:,le_mask]=(responsible_mask[:,le_mask]&fall_into_mask[le_mask,:].T)"
   ]
  },
  {
   "cell_type": "code",
   "execution_count": null,
   "metadata": {},
   "outputs": [],
   "source": [
    "print(le_mask)\n",
    "print(fall_into_mask[le_mask,:].shape)\n"
   ]
  },
  {
   "cell_type": "code",
   "execution_count": null,
   "metadata": {},
   "outputs": [],
   "source": [
    "a=torch.tensor([1,2,3,4,5,6,6,6])\n",
    "indices=(((a==a.max())==True).nonzero())\n",
    "for ind in indices:\n",
    "    print(ind)"
   ]
  },
  {
   "cell_type": "code",
   "execution_count": 4,
   "metadata": {},
   "outputs": [
    {
     "name": "stdout",
     "output_type": "stream",
     "text": [
      "cuda:0\n",
      "Using  2 GPUs!\n",
      "testing with ../pth/pretrained20.pth\n",
      "\n",
      "Length of dataset is 5000\n",
      "\n"
     ]
    },
    {
     "name": "stderr",
     "output_type": "stream",
     "text": [
      "/users/konsa15/.conda/envs/faster_rcnn/lib/python3.8/site-packages/torch/nn/functional.py:2503: UserWarning: Default upsampling behavior when mode=bilinear is changed to align_corners=False since 0.4.0. Please specify align_corners=True if the old behavior is desired. See the documentation of nn.Upsample for details.\n",
      "  warnings.warn(\"Default upsampling behavior when mode={} is changed \"\n"
     ]
    },
    {
     "name": "stdout",
     "output_type": "stream",
     "text": [
      "--- 112.66920042037964 seconds ---\n"
     ]
    }
   ],
   "source": [
    "from darknet import *\n",
    "import darknet as dn\n",
    "import util as util\n",
    "import torch.optim as optim\n",
    "import pandas as pd\n",
    "import time\n",
    "import sys\n",
    "import timeit\n",
    "from dataset import *\n",
    "import torchvision.ops.boxes as nms_box\n",
    "import helper as helper\n",
    "from utils import *\n",
    "from BoundingBox import BoundingBox\n",
    "from BoundingBoxes import BoundingBoxes\n",
    "\n",
    "\n",
    "net = Darknet(\"../cfg/yolov3.cfg\")\n",
    "inp_dim=net.inp_dim\n",
    "pw_ph=net.pw_ph\n",
    "cx_cy=net.cx_cy\n",
    "stride=net.stride\n",
    "\n",
    "start_time = time.time()\n",
    "'''\n",
    "when loading weights from dataparallel model then, you first need to instatiate the dataparallel model \n",
    "if you start fresh then first model.load_weights and then make it parallel\n",
    "'''\n",
    "try:\n",
    "    PATH = '../pth/pretrained20.pth'\n",
    "    weights = torch.load(PATH)\n",
    "    device = torch.device(\"cuda:0\" if torch.cuda.is_available() else \"cpu\")\n",
    "\n",
    "    # Assuming that we are on a CUDA machine, this should print a CUDA device:\n",
    "    print(device)\n",
    "    net.to(device)\n",
    "\n",
    "    if torch.cuda.device_count() > 1:\n",
    "        print(\"Using \", torch.cuda.device_count(), \"GPUs!\")\n",
    "        model = nn.DataParallel(net)\n",
    "    else:\n",
    "        model=net\n",
    "\n",
    "    model.to(device)\n",
    "    \n",
    "    \n",
    "    model.load_state_dict(weights)\n",
    "    model.eval()\n",
    "except FileNotFoundError: \n",
    "    net.load_weights(\"../yolov3.weights\")\n",
    "    device = torch.device(\"cuda:0\" if torch.cuda.is_available() else \"cpu\")\n",
    "\n",
    "    # Assuming that we are on a CUDA machine, this should print a CUDA device:\n",
    "\n",
    "    print(device)\n",
    "    net.to(device)\n",
    "    if torch.cuda.device_count() > 1:\n",
    "      print(\"Using \", torch.cuda.device_count(), \"GPUs!\")\n",
    "      model = nn.DataParallel(net)\n",
    "\n",
    "    model.to(device)\n",
    "    model.eval()\n",
    "\n",
    "\n",
    "\n",
    "\n",
    "print('testing with '+ PATH +'\\n')\n",
    "transformed_dataset=Coco(partition='val',\n",
    "                                           transform=transforms.Compose([\n",
    "                                            ResizeToTensor(inp_dim)\n",
    "                                           ]))\n",
    "\n",
    "\n",
    "\n",
    "dataset_len=(len(transformed_dataset))\n",
    "print('Length of dataset is '+ str(dataset_len)+'\\n')\n",
    "batch_size=16\n",
    "\n",
    "dataloader = DataLoader(transformed_dataset, batch_size=batch_size,\n",
    "                        shuffle=True,collate_fn=helper.my_collate, num_workers=4)\n",
    "\n",
    "true_pos=0\n",
    "false_pos=0\n",
    "counter=0\n",
    "iou_threshold=0.5\n",
    "confidence=0.01\n",
    "recall_counter=0\n",
    "max_detections=None\n",
    "\n",
    "for images,targets,img_name in dataloader:\n",
    "    inp=images.cuda()\n",
    "    raw_pred = model(inp, torch.cuda.is_available())\n",
    "    targets,anchors,offset,strd,mask=helper.collapse_boxes(targets,pw_ph,cx_cy,stride)\n",
    "    raw_pred=raw_pred.to(device='cuda')\n",
    "    true_pred=util.transform(raw_pred.clone(),pw_ph,cx_cy,stride)\n",
    "    \n",
    "    classes=true_pred[:,:,5:].max(2)[0]\n",
    "    objectness=true_pred[:,:,4]\n",
    "    \n",
    "    sorted_pred=torch.sort(objectness,descending=True)\n",
    "    pred_mask=sorted_pred[0]>confidence\n",
    "    indices=[(sorted_pred[1][e,:][pred_mask[e,:]]) for e in range(pred_mask.shape[0])]\n",
    "    pred_final=[true_pred[i,indices[i],:] for i in range(len(indices))]\n",
    "    \n",
    "    pred_final_coord=[util.get_abs_coord(pred_final[i].unsqueeze(-2)) for i in range(len(pred_final))]\n",
    "    \n",
    "    indices=[nms_box.nms(pred_final_coord[i][0],pred_final[i][:,4],iou_threshold) for i in range(len(pred_final))]\n",
    "\n",
    "    pred_final=[pred_final[i][indices[i],:] for i in range(len(pred_final))]\n",
    "#     pred_final[:,0:4]=pred_final[:,0:4]/inp_dim\n",
    "    helper.write_pred(img_name,pred_final,inp_dim,max_detections)\n",
    "    \n",
    "\n",
    "print(\"--- %s seconds ---\" % (time.time() - start_time))\n",
    "\n",
    "# Read txt files containing bounding boxes (ground truth and detections)\n"
   ]
  },
  {
   "cell_type": "code",
   "execution_count": null,
   "metadata": {},
   "outputs": [],
   "source": [
    "from darknet import *\n",
    "import darknet as dn\n",
    "import util as util\n",
    "import torch.optim as optim\n",
    "import pandas as pd\n",
    "import time\n",
    "import sys\n",
    "import timeit\n",
    "from dataset import *\n",
    "import torchvision.ops.boxes as nms_box\n",
    "import helper as helper\n",
    "from utils import *\n",
    "from BoundingBox import BoundingBox\n",
    "from BoundingBoxes import BoundingBoxes\n",
    "boundingboxes = helper.getBoundingBoxes()\n"
   ]
  },
  {
   "cell_type": "code",
   "execution_count": 2,
   "metadata": {},
   "outputs": [
    {
     "name": "stdout",
     "output_type": "stream",
     "text": [
      "\n",
      "COCO map is: 0.6775532157036954\n",
      "\n",
      "COCO map is: 1.326182282206649\n",
      "\n",
      "COCO map is: 1.9345290514389095\n",
      "\n",
      "COCO map is: 2.491104096370508\n",
      "\n",
      "COCO map is: 2.977692628476223\n",
      "\n",
      "COCO map is: 3.372420338853471\n",
      "\n",
      "COCO map is: 3.6633399530230797\n",
      "\n",
      "COCO map is: 3.8353732828668297\n",
      "\n",
      "COCO map is: 3.890211545189467\n",
      "\n",
      "COCO map is: 3.893089384121989\n"
     ]
    }
   ],
   "source": [
    "from Evaluator import *\n",
    "from utils import *\n",
    "from BoundingBox import BoundingBox\n",
    "from BoundingBoxes import BoundingBoxes\n",
    "\n",
    "\n",
    "boundingboxes = helper.getBoundingBoxes()\n",
    "evaluator = Evaluator()\n",
    "\n",
    "iou=0.5\n",
    "MMap=0\n",
    "while iou<1:\n",
    "    metricsPerClass = evaluator.GetPascalVOCMetrics(boundingboxes, IOUThreshold=iou)\n",
    "#     print(\"Average precision values per class:\\n\")\n",
    "    # Loop through classes to obtain their metrics\n",
    "    mAP=0\n",
    "    counter=0\n",
    "    for mc in metricsPerClass:\n",
    "        # Get metric values per each class\n",
    "        c = mc['class']\n",
    "        precision = mc['precision']\n",
    "        recall = mc['recall']\n",
    "        average_precision = mc['AP']\n",
    "        ipre = mc['interpolated precision']\n",
    "        irec = mc['interpolated recall']\n",
    "        # Print AP per class\n",
    "        mAP=average_precision+mAP\n",
    "#         print('%s: %f' % (c, average_precision))\n",
    "    MMap=MMap+mAP/80\n",
    "    iou=iou+0.05\n",
    "    print('\\nCOCO map is:',MMap)"
   ]
  },
  {
   "cell_type": "code",
   "execution_count": 5,
   "metadata": {},
   "outputs": [
    {
     "name": "stdout",
     "output_type": "stream",
     "text": [
      "0: 0.001576\n",
      "1: 0.000500\n",
      "10: 0.000194\n",
      "11: 0.000000\n",
      "12: 0.000000\n",
      "13: 0.003635\n",
      "14: 0.000061\n",
      "15: 0.003767\n",
      "16: 0.007893\n",
      "17: 0.001253\n",
      "18: 0.002096\n",
      "19: 0.003806\n",
      "2: 0.001995\n",
      "20: 0.002062\n",
      "21: 0.019332\n",
      "22: 0.005166\n",
      "23: 0.001213\n",
      "24: 0.000123\n",
      "25: 0.000791\n",
      "26: 0.001165\n",
      "27: 0.000106\n",
      "28: 0.000452\n",
      "29: 0.006250\n",
      "3: 0.000064\n",
      "30: 0.000189\n",
      "31: 0.000000\n",
      "32: 0.005474\n",
      "33: 0.002095\n",
      "34: 0.001349\n",
      "35: 0.000322\n",
      "36: 0.001117\n",
      "37: 0.000121\n",
      "38: 0.000508\n",
      "39: 0.000694\n",
      "4: 0.003233\n",
      "40: 0.002795\n",
      "41: 0.002764\n",
      "42: 0.000034\n",
      "43: 0.000083\n",
      "44: 0.000000\n",
      "45: 0.005726\n",
      "46: 0.001819\n",
      "47: 0.000814\n",
      "48: 0.000644\n",
      "49: 0.004769\n",
      "5: 0.007732\n",
      "50: 0.000000\n",
      "51: 0.000424\n",
      "52: 0.000000\n",
      "53: 0.009787\n",
      "54: 0.001989\n",
      "55: 0.000344\n",
      "56: 0.000159\n",
      "57: 0.008519\n",
      "58: 0.000000\n",
      "59: 0.003829\n",
      "6: 0.002898\n",
      "60: 0.001310\n",
      "61: 0.004003\n",
      "62: 0.001842\n",
      "63: 0.002337\n",
      "64: 0.009707\n",
      "65: 0.001246\n",
      "66: 0.000000\n",
      "67: 0.009142\n",
      "68: 0.000000\n",
      "69: 0.000194\n",
      "7: 0.002832\n",
      "70: 0.000000\n",
      "71: 0.003943\n",
      "72: 0.002155\n",
      "73: 0.000207\n",
      "74: 0.000342\n",
      "75: 0.000999\n",
      "76: 0.002137\n",
      "77: 0.000277\n",
      "78: 0.000000\n",
      "79: 0.000000\n",
      "8: 0.000155\n",
      "9: 0.000774\n"
     ]
    }
   ],
   "source": [
    "0.6403413112473646\n",
    "0.6503946905414258\n",
    "for mc in metricsPerClass:\n",
    "    c = mc['class']\n",
    "    average_precision = mc['AP']\n",
    "    print('%s: %f' % (c, average_precision))"
   ]
  },
  {
   "cell_type": "code",
   "execution_count": 6,
   "metadata": {},
   "outputs": [
    {
     "name": "stdout",
     "output_type": "stream",
     "text": [
      "0.3651112345706164\n"
     ]
    }
   ],
   "source": [
    "print(MMap/10)"
   ]
  },
  {
   "cell_type": "code",
   "execution_count": 7,
   "metadata": {},
   "outputs": [
    {
     "name": "stdout",
     "output_type": "stream",
     "text": [
      "9: 0.000231\n"
     ]
    }
   ],
   "source": [
    "print('%s: %f' % (c, average_precision))"
   ]
  },
  {
   "cell_type": "code",
   "execution_count": 4,
   "metadata": {},
   "outputs": [
    {
     "data": {
      "text/plain": [
       "[<matplotlib.lines.Line2D at 0x7f162f914160>]"
      ]
     },
     "execution_count": 4,
     "metadata": {},
     "output_type": "execute_result"
    },
    {
     "data": {
      "image/png": "[encoded data removed]",
      "text/plain": [
       "<Figure size 432x288 with 1 Axes>"
      ]
     },
     "metadata": {
      "needs_background": "light"
     },
     "output_type": "display_data"
    }
   ],
   "source": [
    "import matplotlib.pyplot as plt\n",
    "\n",
    "plt.plot(recall, precision)"
   ]
  },
  {
   "cell_type": "code",
   "execution_count": null,
   "metadata": {},
   "outputs": [],
   "source": [
    "from Evaluator import *\n",
    "evaluator = Evaluator()\n",
    "metricsPerClass = evaluator.GetPascalVOCMetrics(boundingboxes, IOUThreshold=0.5)\n",
    "print(\"Average precision values per class:\\n\")\n",
    "# Loop through classes to obtain their metrics\n",
    "mAP=0\n",
    "counter=0\n",
    "for mc in metricsPerClass:\n",
    "    # Get metric values per each class\n",
    "    c = mc['class']\n",
    "    precision = mc['precision']\n",
    "    recall = mc['recall']\n",
    "    average_precision = mc['AP']\n",
    "    ipre = mc['interpolated precision']\n",
    "    irec = mc['interpolated recall']\n",
    "    # Print AP per class\n",
    "    mAP=average_precision+mAP\n",
    "    print('%s: %f' % (c, average_precision))\n",
    "\n",
    "print('map is:',mAP/80)"
   ]
  },
  {
   "cell_type": "code",
   "execution_count": null,
   "metadata": {},
   "outputs": [],
   "source": [
    "0.07290217209136615"
   ]
  },
  {
   "cell_type": "code",
   "execution_count": null,
   "metadata": {},
   "outputs": [],
   "source": []
  },
  {
   "cell_type": "code",
   "execution_count": null,
   "metadata": {},
   "outputs": [],
   "source": [
    "import pandas as pd\n",
    "coord=pred_final[:,:4].cpu().detach().numpy()\n",
    "conf=pred_final[:,4:5].cpu().detach().numpy()\n",
    "mat=np.hstack((conf,coord))\n",
    "\n",
    "classes=pred_final[:,5:].max(1)[1].cpu().detach().numpy()\n",
    "classes=np.array([classes]).T\n",
    "\n",
    "mat=np.hstack((classes,mat))\n",
    "mat=np.array(mat)\n",
    "\n",
    "df=pd.DataFrame(mat,index=None,columns=None)\n",
    "df[0]=df[0].apply(lambda x: int(x))\n",
    "\n",
    "df.to_csv('test.txt',sep=' ',header=False,index=None)"
   ]
  },
  {
   "cell_type": "code",
   "execution_count": null,
   "metadata": {},
   "outputs": [],
   "source": [
    "np.savetxt('test.txt',mat)"
   ]
  },
  {
   "cell_type": "code",
   "execution_count": null,
   "metadata": {},
   "outputs": [],
   "source": [
    "a=torch.tensor([1,2,2,3,4,2,3,1,4])\n",
    "print(a.max(0))"
   ]
  },
  {
   "cell_type": "code",
   "execution_count": null,
   "metadata": {},
   "outputs": [],
   "source": [
    "import skimage.io as io"
   ]
  },
  {
   "cell_type": "code",
   "execution_count": null,
   "metadata": {},
   "outputs": [],
   "source": [
    "image=(inp).squeeze(0)\n",
    "image=np.array(image.cpu())\n",
    "print(image.shape)\n",
    "image =  image[:,:,::-1].transpose((1,2,0))\n",
    "print(image.shape)"
   ]
  },
  {
   "cell_type": "code",
   "execution_count": null,
   "metadata": {},
   "outputs": [],
   "source": [
    "import pandas as pd\n",
    "import glob\n",
    "\n",
    "all_files = glob.glob('plots/' + \"/*.csv\")\n",
    "\n",
    "li = []\n",
    "\n",
    "for filename in sorted(all_files):\n",
    "    print(filename)\n",
    "    df = pd.read_csv(filename, index_col=None, header=0)\n",
    "    li.append(df)\n",
    "\n",
    "frame = pd.concat(li, axis=1, ignore_index=True)\n"
   ]
  },
  {
   "cell_type": "code",
   "execution_count": 10,
   "metadata": {},
   "outputs": [
    {
     "name": "stdout",
     "output_type": "stream",
     "text": [
      "        Unnamed: 0                         img  \\\n",
      "0                0  train2017/000000109622.jpg   \n",
      "1                1  train2017/000000160694.jpg   \n",
      "2                2  train2017/000000308590.jpg   \n",
      "3                3  train2017/000000327573.jpg   \n",
      "4                4  train2017/000000062929.jpg   \n",
      "...            ...                         ...   \n",
      "118281      118282  train2017/000000421432.jpg   \n",
      "118282      118283  train2017/000000299290.jpg   \n",
      "118283      118284  train2017/000000119428.jpg   \n",
      "118284      118285  train2017/000000148101.jpg   \n",
      "118285      118286  train2017/000000337779.jpg   \n",
      "\n",
      "                                           box  \n",
      "0       coco/labels/train2017/000000109622.txt  \n",
      "1       coco/labels/train2017/000000160694.txt  \n",
      "2       coco/labels/train2017/000000308590.txt  \n",
      "3       coco/labels/train2017/000000327573.txt  \n",
      "4       coco/labels/train2017/000000062929.txt  \n",
      "...                                        ...  \n",
      "118281  coco/labels/train2017/000000421432.txt  \n",
      "118282  coco/labels/train2017/000000299290.txt  \n",
      "118283  coco/labels/train2017/000000119428.txt  \n",
      "118284  coco/labels/train2017/000000148101.txt  \n",
      "118285  coco/labels/train2017/000000337779.txt  \n",
      "\n",
      "[118286 rows x 3 columns]\n"
     ]
    }
   ],
   "source": [
    "df=pd.read_csv('../pointer.csv')\n",
    "print(df)"
   ]
  },
  {
   "cell_type": "code",
   "execution_count": 11,
   "metadata": {},
   "outputs": [
    {
     "name": "stdout",
     "output_type": "stream",
     "text": [
      "        Unnamed: 0                         img  \\\n",
      "0                0  train2017/000000109622.jpg   \n",
      "1                1  train2017/000000160694.jpg   \n",
      "2                2  train2017/000000308590.jpg   \n",
      "3                3  train2017/000000327573.jpg   \n",
      "4                4  train2017/000000062929.jpg   \n",
      "...            ...                         ...   \n",
      "118281      118282  train2017/000000421432.jpg   \n",
      "118282      118283  train2017/000000299290.jpg   \n",
      "118283      118284  train2017/000000119428.jpg   \n",
      "118284      118285  train2017/000000148101.jpg   \n",
      "118285      118286  train2017/000000337779.jpg   \n",
      "\n",
      "                                           box  \n",
      "0       coco/labels/train2017/000000109622.txt  \n",
      "1       coco/labels/train2017/000000160694.txt  \n",
      "2       coco/labels/train2017/000000308590.txt  \n",
      "3       coco/labels/train2017/000000327573.txt  \n",
      "4       coco/labels/train2017/000000062929.txt  \n",
      "...                                        ...  \n",
      "118281  coco/labels/train2017/000000421432.txt  \n",
      "118282  coco/labels/train2017/000000299290.txt  \n",
      "118283  coco/labels/train2017/000000119428.txt  \n",
      "118284  coco/labels/train2017/000000148101.txt  \n",
      "118285  coco/labels/train2017/000000337779.txt  \n",
      "\n",
      "[118286 rows x 3 columns]\n"
     ]
    }
   ],
   "source": [
    "df=df[:None]\n",
    "print(df)"
   ]
  },
  {
   "cell_type": "code",
   "execution_count": null,
   "metadata": {},
   "outputs": [],
   "source": []
  },
  {
   "cell_type": "code",
   "execution_count": null,
   "metadata": {},
   "outputs": [],
   "source": []
  },
  {
   "cell_type": "code",
   "execution_count": null,
   "metadata": {},
   "outputs": [],
   "source": [
    "import matplotlib.pyplot as plt\n",
    "import pandas as pd\n",
    "\n",
    "# gca stands for 'get current axis'\n",
    "\n",
    "title_list=['AIoU_train','Loss_train','NClass_train','NConf_train','PClass','PConf']\n",
    "\n",
    "fig = plt.figure(figsize=(30, 10))\n",
    "fig.suptitle('KL for xy loss')\n",
    "fig.subplots_adjust(hspace=0.3, wspace=-.6)\n",
    "colors = ['#a6cee3','#1f78b4','#b2df8a','#33a02c','#fb9a99','#e31a1c']\n",
    "i=2\n",
    "k=0\n",
    "while i <18:\n",
    "    ax = fig.add_subplot(2, 9, i)\n",
    "    frame.plot(x =1 , y = i,ax=ax,legend=False)\n",
    "    ax.set_title(title_list[k])\n",
    "    i=i+3\n",
    "    k=k+1\n",
    "plt.savefig('original.png')\n",
    "plt.show()"
   ]
  },
  {
   "cell_type": "code",
   "execution_count": 6,
   "metadata": {},
   "outputs": [
    {
     "name": "stdout",
     "output_type": "stream",
     "text": [
      "/mnt/data1/users/konsa15/workspace/notebooks/coco/labels/coco/labels/val2017\n",
      "4952\n",
      "Pgr:99.97980613893377%      class        xc        yc         w         h          filename\n",
      "0        39  0.125266  0.228448  0.211750  0.450437  000000312192.txt\n",
      "1        60  0.503383  0.590854  0.993234  0.783292  000000312192.txt\n",
      "2         0  0.732789  0.245490  0.534422  0.442437  000000312192.txt\n",
      "3        40  0.069102  0.310854  0.138203  0.532583  000000312192.txt\n",
      "4        40  0.322680  0.081260  0.074203  0.150479  000000312192.txt\n",
      "...     ...       ...       ...       ...       ...               ...\n",
      "36330    73  0.464984  0.428341  0.018969  0.233785  000000571893.txt\n",
      "36331    73  0.490781  0.439930  0.045188  0.219673  000000571893.txt\n",
      "36332    73  0.585711  0.461519  0.040328  0.178131  000000571893.txt\n",
      "36333    74  0.012438  0.348014  0.024875  0.036215  000000571893.txt\n",
      "36334    73  0.474445  0.770257  0.018891  0.208879  000000571893.txt\n",
      "\n",
      "[36335 rows x 6 columns]\n"
     ]
    }
   ],
   "source": [
    "import os\n",
    "import pandas as pd\n",
    "import glob\n",
    "import sys\n",
    "\n",
    "\n",
    "df = pd.DataFrame(columns=['class','xc','yc','w','h','filename'])\n",
    "os.chdir('/mnt/data1/users/konsa15/workspace/notebooks/coco/labels/coco/labels/val2017')\n",
    "print(os.getcwd())\n",
    "files = glob.glob(\"*.txt\")\n",
    "dataset_len=len(files)\n",
    "prg_counter=0\n",
    "print(dataset_len)\n",
    "for file in files:\n",
    "    with open(file) as f:\n",
    "        f=f.read()\n",
    "        box=pd.DataFrame([x.split() for x in f.rstrip('\\n').split('\\n')],columns=['class','xc','yc','w','h'])\n",
    "        box['filename']=[file for x in f.rstrip('\\n').split('\\n')]\n",
    "        df = df.append(box, ignore_index = True)\n",
    "        \n",
    "    sys.stdout.write('\\rPgr:'+str(prg_counter/dataset_len*100)+'%')\n",
    "    prg_counter+=1\n",
    "\n",
    "print(df)\n",
    "obj_idf=(df['class'].value_counts(normalize=True).reset_index(name='obj_idf'))\n",
    "new_df=df.groupby('filename')['class'].value_counts().reset_index(name='count')\n",
    "img_idf=new_df['class'].value_counts(normalize=True).reset_index(name='img_idf')\n",
    "\n",
    "obj_idf['img_idf']=img_idf['img_idf']\n"
   ]
  },
  {
   "cell_type": "code",
   "execution_count": 4,
   "metadata": {},
   "outputs": [],
   "source": [
    "import os\n",
    "import pandas as pd\n",
    "import glob\n",
    "import sys\n",
    "\n",
    "\n",
    "from multiprocessing import Pool # for reading the CSVs faster\n",
    "\n",
    "def my_read_csv(filename):\n",
    "    try:\n",
    "        f=open(filename).read()\n",
    "        box=pd.DataFrame([x.split() for x in f.rstrip('\\n').split('\\n')],columns=['class','xc','yc','w','h'])\n",
    "        box['filename']=[filename for x in f.rstrip('\\n').split('\\n')]\n",
    "        return box\n",
    "    except FileNotFoundError:\n",
    "        return None\n",
    "\n",
    "def load_csvs():\n",
    "    \"\"\"Reads and joins all our CSV files into one big dataframe.\n",
    "    We do it in parallel to make it faster, since otherwise it takes some time.\n",
    "    Idea from: https://stackoverflow.com/questions/36587211/easiest-way-to-read-csv-files-with-multiprocessing-in-pandas\n",
    "    \n",
    "    \"\"\"\n",
    "    # set up your pool\n",
    "    pool = Pool() \n",
    "    os.chdir('/mnt/data1/users/konsa15/workspace/notebooks/coco/labels/coco/labels/train2017')\n",
    "    print(os.getcwd())\n",
    "    files = os.listdir('.')\n",
    "    file_list = [filename for filename in files if filename.split('.')[1]=='txt']\n",
    "    print(len(file_list))\n",
    "    df_list = pool.map(my_read_csv, file_list)\n",
    "    # reduce the list of dataframes to a single dataframe\n",
    "    return pd.concat(df_list, ignore_index=True)"
   ]
  },
  {
   "cell_type": "code",
   "execution_count": 5,
   "metadata": {},
   "outputs": [
    {
     "name": "stdout",
     "output_type": "stream",
     "text": [
      "/mnt/data1/users/konsa15/workspace/notebooks/coco/labels/coco/labels/train2017\n",
      "117266\n"
     ]
    }
   ],
   "source": [
    "df=load_csvs()"
   ]
  },
  {
   "cell_type": "code",
   "execution_count": 7,
   "metadata": {},
   "outputs": [
    {
     "name": "stdout",
     "output_type": "stream",
     "text": [
      "       class        xc        yc         w         h          filename\n",
      "0         30  0.786750  0.428354  0.259656  0.333833  000000196558.txt\n",
      "1         30  0.208883  0.424271  0.142766  0.249333  000000196558.txt\n",
      "2         30  0.533766  0.471438  0.148063  0.423375  000000196558.txt\n",
      "3          0  0.500840  0.618733  0.998320  0.743813  000000538534.txt\n",
      "4          0  0.208150  0.433707  0.382580  0.435947  000000538534.txt\n",
      "...      ...       ...       ...       ...       ...               ...\n",
      "849937    29  0.328891  0.372063  0.051219  0.027333  000000059442.txt\n",
      "849938     0  0.765242  0.535833  0.198172  0.415708  000000059442.txt\n",
      "849939     8  0.500000  0.297756  1.000000  0.595513  000000443835.txt\n",
      "849940     0  0.451922  0.533929  0.719688  0.903804  000000443835.txt\n",
      "849941    13  0.500641  0.688098  0.998719  0.623576  000000443835.txt\n",
      "\n",
      "[849942 rows x 6 columns]\n"
     ]
    }
   ],
   "source": [
    "print(df)\n",
    "obj_idf=(df['class'].value_counts(normalize=True).reset_index(name='obj_idf'))\n",
    "new_df=df.groupby('filename')['class'].value_counts().reset_index(name='count')\n",
    "img_idf=new_df['class'].value_counts(normalize=True).reset_index(name='img_idf')\n",
    "\n",
    "obj_idf['img_idf']=img_idf['img_idf']"
   ]
  },
  {
   "cell_type": "code",
   "execution_count": 45,
   "metadata": {},
   "outputs": [],
   "source": [
    "os.chdir('/mnt/data1/users/konsa15/workspace/notebooks/coco/yolo')\n"
   ]
  },
  {
   "cell_type": "code",
   "execution_count": 25,
   "metadata": {},
   "outputs": [
    {
     "data": {
      "image/png": "[encoded data removed]",
      "text/plain": [
       "<Figure size 432x288 with 1 Axes>"
      ]
     },
     "metadata": {
      "needs_background": "light"
     },
     "output_type": "display_data"
    }
   ],
   "source": [
    "fig=obj_idf.plot(x='img_idf',y='obj_idf',kind='scatter').get_figure()\n",
    "fig.savefig('obj_img_idf-corr.png')"
   ]
  },
  {
   "cell_type": "code",
   "execution_count": 41,
   "metadata": {},
   "outputs": [
    {
     "data": {
      "text/plain": [
       "<matplotlib.axes._subplots.AxesSubplot at 0x7f7849c47940>"
      ]
     },
     "execution_count": 41,
     "metadata": {},
     "output_type": "execute_result"
    },
    {
     "data": {
      "image/png": "[encoded data removed]",
      "text/plain": [
       "<Figure size 432x288 with 1 Axes>"
      ]
     },
     "metadata": {
      "needs_background": "light"
     },
     "output_type": "display_data"
    }
   ],
   "source": [
    "import os\n",
    "import pandas as pd\n",
    "import glob\n",
    "import sys\n",
    "\n",
    "df = pd.DataFrame()\n",
    "files = glob.glob(\"../map/*.csv\")\n",
    "for file in files:\n",
    "    map_csv=pd.read_csv(file)\n",
    "    dat1 = pd.DataFrame({file.split('/')[2].split('.')[0]: map_csv['Value']})\n",
    "    df=pd.concat([df,dat1],axis=1)\n",
    "#     df.drop(columns=[\"\"])\n",
    "    df=df.dropna()\n",
    "\n",
    "df.to_csv('comparative_map.csv')\n",
    "df.plot()\n"
   ]
  },
  {
   "cell_type": "code",
   "execution_count": 52,
   "metadata": {},
   "outputs": [
    {
     "data": {
      "image/png": "[encoded data removed]",
      "text/plain": [
       "<Figure size 432x288 with 1 Axes>"
      ]
     },
     "metadata": {
      "needs_background": "light"
     },
     "output_type": "display_data"
    }
   ],
   "source": [
    "df=pd.read_csv('comparative_map.csv')\n",
    "df=df.drop(columns=[\"index\"])\n",
    "fig=df.plot().get_figure()\n",
    "fig.savefig('comparative_map.png')"
   ]
  }
 ],
 "metadata": {
  "kernelspec": {
   "display_name": "Python 3",
   "language": "python",
   "name": "python3"
  },
  "language_info": {
   "codemirror_mode": {
    "name": "ipython",
    "version": 3
   },
   "file_extension": ".py",
   "mimetype": "text/x-python",
   "name": "python",
   "nbconvert_exporter": "python",
   "pygments_lexer": "ipython3",
   "version": "3.8.1"
  }
 },
 "nbformat": 4,
 "nbformat_minor": 4
}
